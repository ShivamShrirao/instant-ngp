{
 "cells": [
  {
   "cell_type": "code",
   "execution_count": null,
   "id": "7eb5feb6",
   "metadata": {},
   "outputs": [],
   "source": [
    "import numpy as np\n",
    "import json\n",
    "import pandas as pd\n",
    "import csv"
   ]
  },
  {
   "cell_type": "code",
   "execution_count": 18,
   "id": "381d524f",
   "metadata": {},
   "outputs": [],
   "source": [
    "scene = \"/home/shivam/machine_learning/LLFF/data/only_car/\""
   ]
  },
  {
   "cell_type": "code",
   "execution_count": 19,
   "id": "3983bf3c",
   "metadata": {},
   "outputs": [],
   "source": [
    "with open(scene+\"/base_cam.json\",'r') as f:\n",
    "    base_cam = json.load(f)"
   ]
  },
  {
   "cell_type": "code",
   "execution_count": 20,
   "id": "e0e4723a",
   "metadata": {},
   "outputs": [],
   "source": [
    "names=[\"POINT3D_ID\", \"X\", \"Y\", \"Z\", \"R\", \"G\", \"B\", \"ERROR\"]\n",
    "df = []\n",
    "with open(scene + \"/colmap_text/points3D.txt\", \"r\") as fp:\n",
    "    reader = csv.reader(filter(lambda row: row[0]!='#', fp), delimiter=' ')\n",
    "    for row in reader:\n",
    "        df.append(row[:len(names)])\n",
    "df = pd.DataFrame(df, columns=names)\n",
    "df = df.set_index(names[:1])\n",
    "origin = np.float64(df[['X','Y','Z']].values).mean(axis=0)"
   ]
  },
  {
   "cell_type": "code",
   "execution_count": 21,
   "id": "bf391a9d",
   "metadata": {},
   "outputs": [],
   "source": [
    "names=[\"IMAGE_ID\", \"QW\", \"QX\", \"QY\", \"QZ\", \"TX\", \"TY\", \"TZ\", \"CAMERA_ID\", \"NAME\"]\n",
    "df = []\n",
    "with open(scene + \"/colmap_text/images.txt\", \"r\") as fp:\n",
    "    reader = csv.reader(filter(lambda row: row[0]!='#', fp), delimiter=' ')\n",
    "    for i,row in enumerate(reader):\n",
    "        if not i%2:\n",
    "            df.append(row[:len(names)])\n",
    "df = pd.DataFrame(df, columns=names)\n",
    "df = df.set_index(names[:1])\n",
    "cams = np.float64(df[[\"TX\", \"TY\", \"TZ\"]].values)"
   ]
  },
  {
   "cell_type": "code",
   "execution_count": 22,
   "id": "05c68ae9",
   "metadata": {},
   "outputs": [
    {
     "data": {
      "text/html": [
       "<div>\n",
       "<style scoped>\n",
       "    .dataframe tbody tr th:only-of-type {\n",
       "        vertical-align: middle;\n",
       "    }\n",
       "\n",
       "    .dataframe tbody tr th {\n",
       "        vertical-align: top;\n",
       "    }\n",
       "\n",
       "    .dataframe thead th {\n",
       "        text-align: right;\n",
       "    }\n",
       "</style>\n",
       "<table border=\"1\" class=\"dataframe\">\n",
       "  <thead>\n",
       "    <tr style=\"text-align: right;\">\n",
       "      <th></th>\n",
       "      <th>QW</th>\n",
       "      <th>QX</th>\n",
       "      <th>QY</th>\n",
       "      <th>QZ</th>\n",
       "      <th>TX</th>\n",
       "      <th>TY</th>\n",
       "      <th>TZ</th>\n",
       "      <th>CAMERA_ID</th>\n",
       "      <th>NAME</th>\n",
       "    </tr>\n",
       "    <tr>\n",
       "      <th>IMAGE_ID</th>\n",
       "      <th></th>\n",
       "      <th></th>\n",
       "      <th></th>\n",
       "      <th></th>\n",
       "      <th></th>\n",
       "      <th></th>\n",
       "      <th></th>\n",
       "      <th></th>\n",
       "      <th></th>\n",
       "    </tr>\n",
       "  </thead>\n",
       "  <tbody>\n",
       "    <tr>\n",
       "      <th>59</th>\n",
       "      <td>0.646869</td>\n",
       "      <td>0.00698805</td>\n",
       "      <td>-0.762142</td>\n",
       "      <td>-0.0255307</td>\n",
       "      <td>-0.372416</td>\n",
       "      <td>-0.236859</td>\n",
       "      <td>3.93023</td>\n",
       "      <td>1</td>\n",
       "      <td>r_059.png</td>\n",
       "    </tr>\n",
       "    <tr>\n",
       "      <th>58</th>\n",
       "      <td>0.685241</td>\n",
       "      <td>0.00826168</td>\n",
       "      <td>-0.727912</td>\n",
       "      <td>-0.0228063</td>\n",
       "      <td>-0.350841</td>\n",
       "      <td>-0.240603</td>\n",
       "      <td>3.97915</td>\n",
       "      <td>1</td>\n",
       "      <td>r_058.png</td>\n",
       "    </tr>\n",
       "    <tr>\n",
       "      <th>57</th>\n",
       "      <td>0.721571</td>\n",
       "      <td>0.00984317</td>\n",
       "      <td>-0.691948</td>\n",
       "      <td>-0.0211201</td>\n",
       "      <td>-0.331675</td>\n",
       "      <td>-0.240857</td>\n",
       "      <td>4.00979</td>\n",
       "      <td>1</td>\n",
       "      <td>r_057.png</td>\n",
       "    </tr>\n",
       "    <tr>\n",
       "      <th>56</th>\n",
       "      <td>0.756921</td>\n",
       "      <td>0.0107867</td>\n",
       "      <td>-0.653168</td>\n",
       "      <td>-0.0180317</td>\n",
       "      <td>-0.313403</td>\n",
       "      <td>-0.243235</td>\n",
       "      <td>4.03775</td>\n",
       "      <td>1</td>\n",
       "      <td>r_056.png</td>\n",
       "    </tr>\n",
       "    <tr>\n",
       "      <th>55</th>\n",
       "      <td>0.788593</td>\n",
       "      <td>0.00992391</td>\n",
       "      <td>-0.614627</td>\n",
       "      <td>-0.0159842</td>\n",
       "      <td>-0.305293</td>\n",
       "      <td>-0.240524</td>\n",
       "      <td>4.06148</td>\n",
       "      <td>1</td>\n",
       "      <td>r_055.png</td>\n",
       "    </tr>\n",
       "    <tr>\n",
       "      <th>...</th>\n",
       "      <td>...</td>\n",
       "      <td>...</td>\n",
       "      <td>...</td>\n",
       "      <td>...</td>\n",
       "      <td>...</td>\n",
       "      <td>...</td>\n",
       "      <td>...</td>\n",
       "      <td>...</td>\n",
       "      <td>...</td>\n",
       "    </tr>\n",
       "    <tr>\n",
       "      <th>44</th>\n",
       "      <td>0.99424</td>\n",
       "      <td>0.0218233</td>\n",
       "      <td>-0.104546</td>\n",
       "      <td>0.00897508</td>\n",
       "      <td>0.0535581</td>\n",
       "      <td>-0.268749</td>\n",
       "      <td>4.11639</td>\n",
       "      <td>1</td>\n",
       "      <td>r_044.png</td>\n",
       "    </tr>\n",
       "    <tr>\n",
       "      <th>45</th>\n",
       "      <td>0.987218</td>\n",
       "      <td>0.0185252</td>\n",
       "      <td>-0.158154</td>\n",
       "      <td>0.00666719</td>\n",
       "      <td>-0.000499117</td>\n",
       "      <td>-0.267154</td>\n",
       "      <td>4.1824</td>\n",
       "      <td>1</td>\n",
       "      <td>r_045.png</td>\n",
       "    </tr>\n",
       "    <tr>\n",
       "      <th>46</th>\n",
       "      <td>0.978942</td>\n",
       "      <td>0.0169277</td>\n",
       "      <td>-0.203395</td>\n",
       "      <td>0.00398576</td>\n",
       "      <td>-0.0327054</td>\n",
       "      <td>-0.266697</td>\n",
       "      <td>4.23957</td>\n",
       "      <td>1</td>\n",
       "      <td>r_046.png</td>\n",
       "    </tr>\n",
       "    <tr>\n",
       "      <th>47</th>\n",
       "      <td>0.967513</td>\n",
       "      <td>0.0186754</td>\n",
       "      <td>-0.252123</td>\n",
       "      <td>0.00180589</td>\n",
       "      <td>-0.0641989</td>\n",
       "      <td>-0.267523</td>\n",
       "      <td>4.25158</td>\n",
       "      <td>1</td>\n",
       "      <td>r_047.png</td>\n",
       "    </tr>\n",
       "    <tr>\n",
       "      <th>48</th>\n",
       "      <td>0.953212</td>\n",
       "      <td>0.0214095</td>\n",
       "      <td>-0.301544</td>\n",
       "      <td>-5.29549e-05</td>\n",
       "      <td>-0.107334</td>\n",
       "      <td>-0.275463</td>\n",
       "      <td>4.2474</td>\n",
       "      <td>1</td>\n",
       "      <td>r_048.png</td>\n",
       "    </tr>\n",
       "  </tbody>\n",
       "</table>\n",
       "<p>70 rows × 9 columns</p>\n",
       "</div>"
      ],
      "text/plain": [
       "                QW          QX         QY            QZ            TX  \\\n",
       "IMAGE_ID                                                                \n",
       "59        0.646869  0.00698805  -0.762142    -0.0255307     -0.372416   \n",
       "58        0.685241  0.00826168  -0.727912    -0.0228063     -0.350841   \n",
       "57        0.721571  0.00984317  -0.691948    -0.0211201     -0.331675   \n",
       "56        0.756921   0.0107867  -0.653168    -0.0180317     -0.313403   \n",
       "55        0.788593  0.00992391  -0.614627    -0.0159842     -0.305293   \n",
       "...            ...         ...        ...           ...           ...   \n",
       "44         0.99424   0.0218233  -0.104546    0.00897508     0.0535581   \n",
       "45        0.987218   0.0185252  -0.158154    0.00666719  -0.000499117   \n",
       "46        0.978942   0.0169277  -0.203395    0.00398576    -0.0327054   \n",
       "47        0.967513   0.0186754  -0.252123    0.00180589    -0.0641989   \n",
       "48        0.953212   0.0214095  -0.301544  -5.29549e-05     -0.107334   \n",
       "\n",
       "                 TY       TZ CAMERA_ID       NAME  \n",
       "IMAGE_ID                                           \n",
       "59        -0.236859  3.93023         1  r_059.png  \n",
       "58        -0.240603  3.97915         1  r_058.png  \n",
       "57        -0.240857  4.00979         1  r_057.png  \n",
       "56        -0.243235  4.03775         1  r_056.png  \n",
       "55        -0.240524  4.06148         1  r_055.png  \n",
       "...             ...      ...       ...        ...  \n",
       "44        -0.268749  4.11639         1  r_044.png  \n",
       "45        -0.267154   4.1824         1  r_045.png  \n",
       "46        -0.266697  4.23957         1  r_046.png  \n",
       "47        -0.267523  4.25158         1  r_047.png  \n",
       "48        -0.275463   4.2474         1  r_048.png  \n",
       "\n",
       "[70 rows x 9 columns]"
      ]
     },
     "execution_count": 22,
     "metadata": {},
     "output_type": "execute_result"
    }
   ],
   "source": [
    "df"
   ]
  },
  {
   "cell_type": "code",
   "execution_count": 7,
   "id": "0e0ea101",
   "metadata": {},
   "outputs": [],
   "source": [
    "num_cams = 360\n",
    "# pad_cam = 4"
   ]
  },
  {
   "cell_type": "code",
   "execution_count": 8,
   "id": "afe328de",
   "metadata": {},
   "outputs": [],
   "source": [
    "r = 1.25\n",
    "theta = np.linspace(0,np.pi,num_cams//2+1)\n",
    "x = -r*np.cos(theta)\n",
    "\n",
    "z = np.sqrt(r**2 - x**2)\n",
    "z = np.concatenate((z,-z[1:-1][::-1]))\n",
    "x = np.concatenate((x, x[1:-1][::-1]))\n",
    "y = np.zeros_like(x)"
   ]
  },
  {
   "cell_type": "code",
   "execution_count": 9,
   "id": "7eebb9d8",
   "metadata": {},
   "outputs": [],
   "source": [
    "ang_off = np.pi*0.25\n",
    "ang = np.linspace(-np.pi,-2*np.pi,num_cams)[:,None] + ang_off\n",
    "rw = np.cos(ang)\n",
    "rxyz = np.float64([[0,1,0]]).repeat(num_cams,0)\n",
    "rxyz = np.sin(ang)*rxyz\n",
    "rots = np.concatenate((rw, rxyz), axis=1)"
   ]
  },
  {
   "cell_type": "code",
   "execution_count": 14,
   "id": "e005b328",
   "metadata": {},
   "outputs": [
    {
     "data": {
      "text/plain": [
       "0.9100126839665167"
      ]
     },
     "execution_count": 14,
     "metadata": {},
     "output_type": "execute_result"
    }
   ],
   "source": [
    "center = 0.5\n",
    "y_off = np.abs(cams[:,1]).mean()\n",
    "pos = np.dstack((x+center, y+y_off, z+center))[0]\n",
    "# pos = np.concatenate((pos[-pad_cam:], pos, pos[:pad_cam]))\n",
    "# rots = np.concatenate((rots[-pad_cam:], rots, rots[:pad_cam]))\n",
    "y_off"
   ]
  },
  {
   "cell_type": "code",
   "execution_count": 15,
   "id": "3a32551c",
   "metadata": {},
   "outputs": [],
   "source": [
    "newp = base_cam['path'][-1].copy()\n",
    "base_cam['path'] = []\n",
    "for p,rt in zip(pos,rots):\n",
    "    newp = newp.copy()\n",
    "    newp['R'] = list(rt)\n",
    "    newp['T'] = list(p)\n",
    "    newp['fov'] = 80.0\n",
    "    newp['scale'] = 1.\n",
    "    base_cam['path'].append(newp)"
   ]
  },
  {
   "cell_type": "code",
   "execution_count": 16,
   "id": "6e2c9f94",
   "metadata": {},
   "outputs": [
    {
     "data": {
      "text/plain": [
       "360"
      ]
     },
     "execution_count": 16,
     "metadata": {},
     "output_type": "execute_result"
    }
   ],
   "source": [
    "len(base_cam['path'])"
   ]
  },
  {
   "cell_type": "code",
   "execution_count": 17,
   "id": "91013a88",
   "metadata": {},
   "outputs": [],
   "source": [
    "with open(scene+\"/base_cam.json\",'w') as f:\n",
    "    json.dump(base_cam, f, indent=4)"
   ]
  },
  {
   "cell_type": "code",
   "execution_count": null,
   "id": "03b639b7",
   "metadata": {},
   "outputs": [],
   "source": []
  },
  {
   "cell_type": "code",
   "execution_count": null,
   "id": "7f844bd3",
   "metadata": {},
   "outputs": [],
   "source": []
  }
 ],
 "metadata": {
  "kernelspec": {
   "display_name": "Python 3 (ipykernel)",
   "language": "python",
   "name": "python3"
  },
  "language_info": {
   "codemirror_mode": {
    "name": "ipython",
    "version": 3
   },
   "file_extension": ".py",
   "mimetype": "text/x-python",
   "name": "python",
   "nbconvert_exporter": "python",
   "pygments_lexer": "ipython3",
   "version": "3.10.2"
  }
 },
 "nbformat": 4,
 "nbformat_minor": 5
}
